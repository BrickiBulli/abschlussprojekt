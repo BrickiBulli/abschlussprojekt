{
 "cells": [
  {
   "cell_type": "markdown",
   "metadata": {},
   "source": [
    "Installiert den mysql-connector"
   ]
  },
  {
   "cell_type": "code",
   "execution_count": 1,
   "metadata": {},
   "outputs": [
    {
     "name": "stdout",
     "output_type": "stream",
     "text": [
      "Defaulting to user installation because normal site-packages is not writeable\n",
      "Collecting mysql-connector-python\n",
      "  Downloading mysql_connector_python-8.3.0-cp312-cp312-manylinux_2_17_x86_64.whl.metadata (1.9 kB)\n",
      "Collecting mysql-connector\n",
      "  Downloading mysql-connector-2.2.9.tar.gz (11.9 MB)\n",
      "\u001b[2K     \u001b[90m━━━━━━━━━━━━━━━━━━━━━━━━━━━━━━━━━━━━━━━━\u001b[0m \u001b[32m11.9/11.9 MB\u001b[0m \u001b[31m11.7 MB/s\u001b[0m eta \u001b[36m0:00:00\u001b[0m00:01\u001b[0m00:01\u001b[0m\n",
      "\u001b[?25h  Preparing metadata (setup.py) ... \u001b[?25ldone\n",
      "\u001b[?25hDownloading mysql_connector_python-8.3.0-cp312-cp312-manylinux_2_17_x86_64.whl (21.5 MB)\n",
      "\u001b[2K   \u001b[90m━━━━━━━━━━━━━━━━━━━━━━━━━━━━━━━━━━━━━━━━\u001b[0m \u001b[32m21.5/21.5 MB\u001b[0m \u001b[31m9.9 MB/s\u001b[0m eta \u001b[36m0:00:00\u001b[0m:00:01\u001b[0m00:01\u001b[0m\n",
      "\u001b[?25hBuilding wheels for collected packages: mysql-connector\n",
      "  Building wheel for mysql-connector (setup.py) ... \u001b[?25ldone\n",
      "\u001b[?25h  Created wheel for mysql-connector: filename=mysql_connector-2.2.9-cp312-cp312-linux_x86_64.whl size=247951 sha256=8306d7928e8d4855418cd1d7ac4408fedffa3935eacae81274061ed2ff5c07a9\n",
      "  Stored in directory: /home/vscode/.cache/pip/wheels/03/17/fa/d7604c72dd3dd6d3eb3d249abf36cc532c9a9b4354b8f1bc4f\n",
      "Successfully built mysql-connector\n",
      "Installing collected packages: mysql-connector, mysql-connector-python\n",
      "Successfully installed mysql-connector-2.2.9 mysql-connector-python-8.3.0\n",
      "Note: you may need to restart the kernel to use updated packages.\n"
     ]
    }
   ],
   "source": [
    "%pip install mysql-connector-python mysql-connector \n",
    "\n",
    "import mysql.connector \n",
    "from mysql.connector import errorcode"
   ]
  },
  {
   "cell_type": "markdown",
   "metadata": {},
   "source": [
    "Veruscht eine Verbidung herzustellen und gibt einen Error aus wenn es nicht funktioniert. Flls es klppt, wird nichts ausgegeben\n"
   ]
  },
  {
   "cell_type": "code",
   "execution_count": 2,
   "metadata": {},
   "outputs": [],
   "source": [
    "\n",
    "\n",
    "try:\n",
    "  connection = mysql.connector.connect(user='root',host=\"mysql\",password='root',database='abschlussarbeit')\n",
    "except mysql.connector.Error as err:\n",
    "  if err.errno == errorcode.ER_ACCESS_DENIED_ERROR:\n",
    "    print(\"Something is wrong with your user name or password\")\n",
    "  elif err.errno == errorcode.ER_BAD_DB_ERROR:\n",
    "    print(\"Database does not exist\")\n",
    "  else:\n",
    "    print(err)\n"
   ]
  },
  {
   "cell_type": "markdown",
   "metadata": {},
   "source": [
    "Von hier ankönnen wir eigene SQL statements hinzufügn um die Datanbank zu beeinflussen \n"
   ]
  },
  {
   "cell_type": "code",
   "execution_count": 5,
   "metadata": {},
   "outputs": [
    {
     "name": "stdout",
     "output_type": "stream",
     "text": [
      "(1, 'Amsler', 'Simon', 'amsi', 17)\n",
      "(2, 'Schmutz', 'Seth', 'schmutzly', 17)\n",
      "(3, 'Topp', 'Tobias', 'tobi', 16)\n",
      "(4, 'Seeli', 'Markus', 'markus', 35)\n",
      "(5, 'Akkaya', 'Cem', 'cemmy', 18)\n",
      "(6, 'Kunz', 'Joshua', 'josh', 17)\n",
      "(7, 'Johnatan', 'Arlt', 'Jonny', 18)\n"
     ]
    }
   ],
   "source": [
    "# Entfehrne die '''  am Anfang und Ende um den Code zu aktivieren. Dies ist ein beispiel Eintrag in die Tabelle. Dieser Eintrag verwendet den python Mysql connector.\n",
    "\n",
    "connection = mysql.connector.connect(user='root',host=\"mysql\",password='root',database='abschlussarbeit')\n",
    "\n",
    "# Erstellt einen Cursor um SQL Befehle auszuführen\n",
    "cursor = connection.cursor()\n",
    "\n",
    "# SQL querry für neuen Eintrag in der Tabelle 'members'\n",
    "sql = \"INSERT INTO members (nachname, vorname, spitzname, age) VALUES (%s, %s, %s, %s)\"\n",
    "\n",
    "# Definiert die Variablen für die Spalten in der Tabelle 'members'\n",
    "nachname = \"Arlt\"\n",
    "vorname = \"Johnatan\"\n",
    "spitzname = \"Jonny\"\n",
    "age = 18\n",
    "\n",
    "# Führt den SQL Befehl aus und fügt die Variablen in die Tabelle 'members' ein\n",
    "cursor.execute(sql, (vorname, nachname, spitzname, age))\n",
    "connection.commit()\n",
    "\n",
    "# SQL querry um alle Einträge in der Tabelle 'members' zu selektieren und pro eintrag eine neue Zeile zu erstellen\n",
    "cursor.execute(\"SELECT * FROM members\")\n",
    "result = cursor.fetchall()\n",
    "for row in result:\n",
    "    print(row)\n"
   ]
  },
  {
   "cell_type": "markdown",
   "metadata": {},
   "source": [
    "Kock your self out 😉"
   ]
  },
  {
   "cell_type": "code",
   "execution_count": null,
   "metadata": {},
   "outputs": [],
   "source": []
  }
 ],
 "metadata": {
  "kernelspec": {
   "display_name": "Python 3",
   "language": "python",
   "name": "python3"
  },
  "language_info": {
   "codemirror_mode": {
    "name": "ipython",
    "version": 3
   },
   "file_extension": ".py",
   "mimetype": "text/x-python",
   "name": "python",
   "nbconvert_exporter": "python",
   "pygments_lexer": "ipython3",
   "version": "3.12.2"
  }
 },
 "nbformat": 4,
 "nbformat_minor": 2
}
