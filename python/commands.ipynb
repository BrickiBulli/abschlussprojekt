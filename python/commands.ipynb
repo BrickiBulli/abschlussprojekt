{
 "cells": [
  {
   "cell_type": "markdown",
   "metadata": {},
   "source": [
    "Installiert den Mysql Connector"
   ]
  },
  {
   "cell_type": "code",
   "execution_count": 4,
   "metadata": {},
   "outputs": [
    {
     "name": "stdout",
     "output_type": "stream",
     "text": [
      "Requirement already satisfied: mysql-connector-python in c:\\users\\u127948\\appdata\\local\\programs\\python\\python311\\lib\\site-packages (8.3.0)Note: you may need to restart the kernel to use updated packages.\n",
      "\n",
      "Requirement already satisfied: mysql-connector in c:\\users\\u127948\\appdata\\local\\programs\\python\\python311\\lib\\site-packages (2.2.9)\n"
     ]
    },
    {
     "name": "stderr",
     "output_type": "stream",
     "text": [
      "\n",
      "[notice] A new release of pip is available: 23.1.2 -> 24.0\n",
      "[notice] To update, run: python.exe -m pip install --upgrade pip\n"
     ]
    }
   ],
   "source": [
    "%pip install mysql-connector-python mysql-connector \n",
    "\n",
    "import mysql.connector \n",
    "from mysql.connector import errorcode\n",
    "\n",
    "\n"
   ]
  },
  {
   "cell_type": "markdown",
   "metadata": {},
   "source": [
    "folgendes schaut ob die Verbindung funktioniert und gibt nur dann etwas aus wenn nicht"
   ]
  },
  {
   "cell_type": "code",
   "execution_count": 5,
   "metadata": {},
   "outputs": [
    {
     "name": "stdout",
     "output_type": "stream",
     "text": [
      "2005 (HY000): Unknown MySQL server host 'mysql' (11001)\n"
     ]
    }
   ],
   "source": [
    "\n",
    "\n",
    "try:\n",
    "  connection = mysql.connector.connect(user='root',host=\"mysql\",password='root',port=3306,database='abschlussarbeit')\n",
    "except mysql.connector.Error as err:\n",
    "  if err.errno == errorcode.ER_ACCESS_DENIED_ERROR:\n",
    "    print(\"Something is wrong with your user name or password\")\n",
    "  elif err.errno == errorcode.ER_BAD_DB_ERROR:\n",
    "    print(\"Database does not exist\")\n",
    "  else:\n",
    "    print(err)\n"
   ]
  },
  {
   "cell_type": "markdown",
   "metadata": {},
   "source": [
    "Von hier an können wir SQL Statements machen um die Daten der DB zu ändern"
   ]
  },
  {
   "cell_type": "code",
   "execution_count": 6,
   "metadata": {},
   "outputs": [
    {
     "data": {
      "text/plain": [
       "'\\n# SQL querry für neuen Eintrag in der Tabelle \\'members\\'\\nsql = \"INSERT INTO members (nachname, vorname, spitzname, age) VALUES (%s, %s, %s, %s)\"\\n\\n# Definiert die Variablen für die Spalten in der Tabelle \\'members\\'\\nnachname = \"Arlt\"\\nvorname = \"Johnatan\"\\nspitzname = \"Jonny\"\\nage = 18\\n\\n# Führt den SQL Befehl aus und fügt die Variablen in die Tabelle \\'members\\' ein\\ncursor.execute(sql, (vorname, nachname, spitzname, age))\\nconnection.commit()\\n\\n'"
      ]
     },
     "execution_count": 6,
     "metadata": {},
     "output_type": "execute_result"
    }
   ],
   "source": [
    "# Entfehrne die '''  am Anfang und Ende um den Code zu aktivieren. Dies ist ein beispiel Eintrag in die Tabelle. Dieser Eintrag verwendet den python Mysql connector.\n",
    "'''\n",
    "# Erstellt einen Cursor um SQL Befehle auszuführen nicht entfehrnen!\n",
    "connection = mysql.connector.connect(user='root',host=\"mysql\",password='root',\n",
    "                             database='abschlussarbeit')\n",
    "cursor = connection.cursor()\n",
    "\n",
    "# SQL querry für neuen Eintrag in der Tabelle 'members'\n",
    "sql = \"INSERT INTO members (nachname, vorname, spitzname, age) VALUES (%s, %s, %s, %s)\"\n",
    "\n",
    "# Definiert die Variablen für die Spalten in der Tabelle 'members'\n",
    "nachname = \"Arlt\"\n",
    "vorname = \"Johnatan\"\n",
    "spitzname = \"Jonny\"\n",
    "age = 18\n",
    "\n",
    "# Führt den SQL Befehl aus und fügt die Variablen in die Tabelle 'members' ein\n",
    "cursor.execute(sql, (vorname, nachname, spitzname, age))\n",
    "connection.commit()\n",
    "\n",
    "'''"
   ]
  },
  {
   "cell_type": "markdown",
   "metadata": {},
   "source": [
    "Knock your selfe out 😉"
   ]
  },
  {
   "cell_type": "code",
   "execution_count": 7,
   "metadata": {},
   "outputs": [],
   "source": [
    "#sql Statements hier"
   ]
  }
 ],
 "metadata": {
  "kernelspec": {
   "display_name": "Python 3",
   "language": "python",
   "name": "python3"
  },
  "language_info": {
   "codemirror_mode": {
    "name": "ipython",
    "version": 3
   },
   "file_extension": ".py",
   "mimetype": "text/x-python",
   "name": "python",
   "nbconvert_exporter": "python",
   "pygments_lexer": "ipython3",
   "version": "3.11.4"
  }
 },
 "nbformat": 4,
 "nbformat_minor": 2
}
