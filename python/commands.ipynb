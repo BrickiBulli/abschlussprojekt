{
 "cells": [
  {
   "cell_type": "code",
   "execution_count": null,
   "metadata": {},
   "outputs": [],
   "source": [
    "import mysql.connector "
   ]
  },
  {
   "cell_type": "code",
   "execution_count": null,
   "metadata": {},
   "outputs": [],
   "source": [
    "connection = mysql.connector.connect(\n",
    "    user='root', password='root', host='mysql', port=\"3366\" , database='abschlussarbeit')\n",
    "print(\"Connected to abschlussarbeit\")\n"
   ]
  },
  {
   "cell_type": "code",
   "execution_count": null,
   "metadata": {},
   "outputs": [],
   "source": [
    "# Entfehrne die '''  am Anfang und Ende um den Code zu aktivieren. Dies ist ein beispiel Eintrag in die Tabelle. Dieser Eintrag verwendet den python Mysql connector.\n",
    "'''\n",
    "# Erstellt einen Cursor um SQL Befehle auszuführen\n",
    "cursor = connection.cursor()\n",
    "\n",
    "# SQL querry für neuen Eintrag in der Tabelle 'members'\n",
    "sql = \"INSERT INTO members (nachname, vorname, spitzname, age) VALUES (%s, %s, %s, %s)\"\n",
    "\n",
    "# Definiert die Variablen für die Spalten in der Tabelle 'members'\n",
    "nachname = \"Arlt\"\n",
    "vorname = \"Johnatan\"\n",
    "spitzname = \"Jonny\"\n",
    "age = 18\n",
    "\n",
    "# Führt den SQL Befehl aus und fügt die Variablen in die Tabelle 'members' ein\n",
    "cursor.execute(sql, (vorname, nachname, spitzname, age))\n",
    "connection.commit()\n",
    "\n",
    "'''"
   ]
  }
 ],
 "metadata": {
  "kernelspec": {
   "display_name": "Python 3",
   "language": "python",
   "name": "python3"
  },
  "language_info": {
   "codemirror_mode": {
    "name": "ipython",
    "version": 3
   },
   "file_extension": ".py",
   "mimetype": "text/x-python",
   "name": "python",
   "nbconvert_exporter": "python",
   "pygments_lexer": "ipython3",
   "version": "3.9.13"
  }
 },
 "nbformat": 4,
 "nbformat_minor": 2
}
