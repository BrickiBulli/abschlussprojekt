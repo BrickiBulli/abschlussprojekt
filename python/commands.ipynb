{
 "cells": [
  {
   "cell_type": "markdown",
   "metadata": {},
   "source": [
    "Installiert den mysql-connector"
   ]
  },
  {
   "cell_type": "code",
   "execution_count": 1,
   "metadata": {},
   "outputs": [
    {
     "name": "stdout",
     "output_type": "stream",
     "text": [
      "Collecting mysql-connector-pythonNote: you may need to restart the kernel to use updated packages.\n",
      "\n",
      "  Downloading mysql_connector_python-8.3.0-cp311-cp311-win_amd64.whl (15.4 MB)\n",
      "                                              0.0/15.4 MB ? eta -:--:--\n",
      "                                              0.0/15.4 MB ? eta -:--:--\n",
      "                                             0.0/15.4 MB 660.6 kB/s eta 0:00:24\n",
      "                                              0.2/15.4 MB 2.0 MB/s eta 0:00:08\n",
      "     -                                        0.4/15.4 MB 3.2 MB/s eta 0:00:05\n",
      "     -                                        0.7/15.4 MB 4.3 MB/s eta 0:00:04\n",
      "     ---                                      1.2/15.4 MB 5.4 MB/s eta 0:00:03\n",
      "     ----                                     1.8/15.4 MB 6.8 MB/s eta 0:00:03\n",
      "     ------                                   2.7/15.4 MB 8.4 MB/s eta 0:00:02\n",
      "     ---------                                3.7/15.4 MB 10.3 MB/s eta 0:00:02\n",
      "     -------------                            5.1/15.4 MB 12.5 MB/s eta 0:00:01\n",
      "     -----------------                        6.9/15.4 MB 15.3 MB/s eta 0:00:01\n",
      "     ----------------------                   8.8/15.4 MB 17.7 MB/s eta 0:00:01\n",
      "     ---------------------------             10.7/15.4 MB 26.2 MB/s eta 0:00:01\n",
      "     ------------------------------          12.1/15.4 MB 32.8 MB/s eta 0:00:01\n",
      "     ----------------------------------      13.8/15.4 MB 38.5 MB/s eta 0:00:01\n",
      "     -------------------------------------   14.8/15.4 MB 36.4 MB/s eta 0:00:01\n",
      "     --------------------------------------  15.3/15.4 MB 32.7 MB/s eta 0:00:01\n",
      "     --------------------------------------  15.4/15.4 MB 31.2 MB/s eta 0:00:01\n",
      "     --------------------------------------- 15.4/15.4 MB 26.2 MB/s eta 0:00:00\n",
      "Collecting mysql-connector\n",
      "  Downloading mysql-connector-2.2.9.tar.gz (11.9 MB)\n",
      "                                              0.0/11.9 MB ? eta -:--:--\n",
      "     ---                                      0.9/11.9 MB 19.8 MB/s eta 0:00:01\n",
      "     -------                                  2.3/11.9 MB 24.1 MB/s eta 0:00:01\n",
      "     ------------                             3.7/11.9 MB 26.0 MB/s eta 0:00:01\n",
      "     ----------------                         4.9/11.9 MB 26.1 MB/s eta 0:00:01\n",
      "     --------------------                     6.0/11.9 MB 25.5 MB/s eta 0:00:01\n",
      "     -------------------------                7.5/11.9 MB 28.3 MB/s eta 0:00:01\n",
      "     ------------------------------           9.1/11.9 MB 29.1 MB/s eta 0:00:01\n",
      "     ----------------------------------      10.6/11.9 MB 29.7 MB/s eta 0:00:01\n",
      "     --------------------------------------  11.8/11.9 MB 29.7 MB/s eta 0:00:01\n",
      "     --------------------------------------  11.8/11.9 MB 29.7 MB/s eta 0:00:01\n",
      "     --------------------------------------- 11.9/11.9 MB 26.2 MB/s eta 0:00:00\n",
      "  Installing build dependencies: started\n",
      "  Installing build dependencies: finished with status 'done'\n",
      "  Getting requirements to build wheel: started\n",
      "  Getting requirements to build wheel: finished with status 'done'\n",
      "  Preparing metadata (pyproject.toml): started\n",
      "  Preparing metadata (pyproject.toml): finished with status 'done'\n",
      "Building wheels for collected packages: mysql-connector\n",
      "  Building wheel for mysql-connector (pyproject.toml): started\n",
      "  Building wheel for mysql-connector (pyproject.toml): finished with status 'done'\n",
      "  Created wheel for mysql-connector: filename=mysql_connector-2.2.9-cp311-cp311-win_amd64.whl size=247958 sha256=fab5b384e0a2ee6946f2f1fec87873fb2bf528b1cb83ac131f7fca5b932c2567\n",
      "  Stored in directory: c:\\users\\u127948\\appdata\\local\\pip\\cache\\wheels\\17\\cd\\ed\\2d49e9bac69cf09382e4c7cc20a2511202b48324b87db26019\n",
      "Successfully built mysql-connector\n",
      "Installing collected packages: mysql-connector, mysql-connector-python\n",
      "Successfully installed mysql-connector-2.2.9 mysql-connector-python-8.3.0\n"
     ]
    },
    {
     "name": "stderr",
     "output_type": "stream",
     "text": [
      "\n",
      "[notice] A new release of pip is available: 23.1.2 -> 24.0\n",
      "[notice] To update, run: python.exe -m pip install --upgrade pip\n"
     ]
    }
   ],
   "source": [
    "%pip install mysql-connector-python mysql-connector \n",
    "\n",
    "import mysql.connector \n",
    "from mysql.connector import errorcode"
   ]
  },
  {
   "cell_type": "markdown",
   "metadata": {},
   "source": [
    "Veruscht eine Verbidung herzustellen und gibt einen Error aus wenn es nicht funktioniert. Flls es klppt, wird nichts ausgegeben\n"
   ]
  },
  {
   "cell_type": "code",
   "execution_count": 2,
   "metadata": {},
   "outputs": [
    {
     "name": "stdout",
     "output_type": "stream",
     "text": [
      "2005 (HY000): Unknown MySQL server host 'mysql' (11001)\n"
     ]
    }
   ],
   "source": [
    "\n",
    "\n",
    "try:\n",
    "  connection = mysql.connector.connect(user='root',host=\"mysql\",password='root',database='abschlussarbeit')\n",
    "except mysql.connector.Error as err:\n",
    "  if err.errno == errorcode.ER_ACCESS_DENIED_ERROR:\n",
    "    print(\"Something is wrong with your user name or password\")\n",
    "  elif err.errno == errorcode.ER_BAD_DB_ERROR:\n",
    "    print(\"Database does not exist\")\n",
    "  else:\n",
    "    print(err)\n"
   ]
  },
  {
   "cell_type": "code",
   "execution_count": 3,
   "metadata": {},
   "outputs": [
    {
     "data": {
      "text/plain": [
       "'\\nconnection = mysql.connector.connect(user=\\'root\\',host=\"mysql\",password=\\'root\\',database=\\'abschlussarbeit\\')\\n\\n# Erstellt einen Cursor um SQL Befehle auszuführen\\ncursor = connection.cursor()\\n\\n# SQL querry für neuen Eintrag in der Tabelle \\'members\\'\\nsql = \"INSERT INTO members (nachname, vorname, spitzname, age) VALUES (%s, %s, %s, %s)\"\\n\\n# Definiert die Variablen für die Spalten in der Tabelle \\'members\\'\\nnachname = \"Arlt\"\\nvorname = \"Johnatan\"\\nspitzname = \"Jonny\"\\nage = 18\\n\\n# Führt den SQL Befehl aus und fügt die Variablen in die Tabelle \\'members\\' ein\\ncursor.execute(sql, (vorname, nachname, spitzname, age))\\nconnection.commit()\\n\\n'"
      ]
     },
     "execution_count": 3,
     "metadata": {},
     "output_type": "execute_result"
    }
   ],
   "source": [
    "# Entfehrne die '''  am Anfang und Ende um den Code zu aktivieren. Dies ist ein beispiel Eintrag in die Tabelle. Dieser Eintrag verwendet den python Mysql connector.\n",
    "'''\n",
    "connection = mysql.connector.connect(user='root',host=\"mysql\",password='root',database='abschlussarbeit')\n",
    "\n",
    "# Erstellt einen Cursor um SQL Befehle auszuführen\n",
    "cursor = connection.cursor()\n",
    "\n",
    "# SQL querry für neuen Eintrag in der Tabelle 'members'\n",
    "sql = \"INSERT INTO members (nachname, vorname, spitzname, age) VALUES (%s, %s, %s, %s)\"\n",
    "\n",
    "# Definiert die Variablen für die Spalten in der Tabelle 'members'\n",
    "nachname = \"Arlt\"\n",
    "vorname = \"Johnatan\"\n",
    "spitzname = \"Jonny\"\n",
    "age = 18\n",
    "\n",
    "# Führt den SQL Befehl aus und fügt die Variablen in die Tabelle 'members' ein\n",
    "cursor.execute(sql, (vorname, nachname, spitzname, age))\n",
    "connection.commit()\n",
    "\n",
    "'''"
   ]
  }
 ],
 "metadata": {
  "kernelspec": {
   "display_name": "Python 3",
   "language": "python",
   "name": "python3"
  },
  "language_info": {
   "codemirror_mode": {
    "name": "ipython",
    "version": 3
   },
   "file_extension": ".py",
   "mimetype": "text/x-python",
   "name": "python",
   "nbconvert_exporter": "python",
   "pygments_lexer": "ipython3",
   "version": "3.11.4"
  }
 },
 "nbformat": 4,
 "nbformat_minor": 2
}
